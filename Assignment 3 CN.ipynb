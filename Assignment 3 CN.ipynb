{
 "cells": [
  {
   "cell_type": "code",
   "execution_count": 1,
   "id": "dcede1d9",
   "metadata": {},
   "outputs": [
    {
     "name": "stdout",
     "output_type": "stream",
     "text": [
      "Final Output:\n",
      "[[-25. 466. 466. 475. 653.]\n",
      " [295. 787. 798. 812. 671.]\n",
      " [291. 776. 784. 800. 659.]\n",
      " [293. 771. 773. 782. 645.]\n",
      " [159. 328. 324. 319. 335.]]\n"
     ]
    }
   ],
   "source": [
    "import numpy as np\n",
    "input_red = np.array([\n",
    "    [0, 0, 0, 0, 0, 0, 0],\n",
    "    [0, 156, 155, 156, 158, 158, 0],\n",
    "    [0, 153, 154, 157, 159, 159, 0],\n",
    "    [0, 149, 151, 155, 158, 159, 0],\n",
    "    [0, 146, 146, 149, 153, 158, 0],\n",
    "    [0, 145, 143, 143, 148, 158, 0],\n",
    "    [0, 0, 0, 0, 0, 0, 0]\n",
    "])\n",
    "input_green = np.array([\n",
    "    [0, 0, 0, 0, 0, 0, 0],\n",
    "    [0, 167, 166, 167, 169, 169, 0],\n",
    "    [0, 164, 165, 168, 170, 170, 0],\n",
    "    [0, 160, 162, 166, 169, 170, 0],\n",
    "    [0, 156, 156, 159, 163, 168, 0],\n",
    "    [0, 155, 153, 153, 158, 168, 0],\n",
    "    [0, 0, 0, 0, 0, 0, 0]\n",
    "])\n",
    "input_blue = np.array([\n",
    "    [0, 0, 0, 0, 0, 0, 0],\n",
    "    [0, 163, 162, 163, 165, 165, 0],\n",
    "    [0, 160, 161, 164, 166, 166, 0],\n",
    "    [0, 156, 158, 162, 165, 166, 0],\n",
    "    [0, 155, 155, 158, 162, 167, 0],\n",
    "    [0, 154, 152, 152, 157, 167, 0],\n",
    "    [0, 0, 0, 0, 0, 0, 0]\n",
    "])\n",
    "kernel_red = np.array([\n",
    "    [-1, -1, 1],\n",
    "    [0, 1, -1],\n",
    "    [0, 1, 1]\n",
    "])\n",
    "kernel_green = np.array([\n",
    "    [1, 0, 0],\n",
    "    [1, -1, -1],\n",
    "    [1, 0, -1]\n",
    "])\n",
    "kernel_blue = np.array([\n",
    "    [0, 1, 1],\n",
    "    [0, 1, 0],\n",
    "    [1, -1, 1]\n",
    "])\n",
    "bias = 1\n",
    "def apply_convolution(input_channel, kernel):\n",
    "    kernel_size = kernel.shape[0]\n",
    "    input_size = input_channel.shape[0]\n",
    "    if input_size < kernel_size:\n",
    "        raise ValueError(\"Input size must be larger than kernel size.\")\n",
    "    output_size = input_size - kernel_size + 1\n",
    "    output = np.zeros((output_size, output_size))\n",
    "    for i in range(output_size):\n",
    "        for j in range(output_size):\n",
    "            region = input_channel[i:i+kernel_size, j:j+kernel_size]\n",
    "            if region.shape == kernel.shape:\n",
    "                output[i, j] = np.sum(region * kernel)\n",
    "    return output\n",
    "output_red = apply_convolution(input_red, kernel_red)\n",
    "output_green = apply_convolution(input_green, kernel_green)\n",
    "output_blue = apply_convolution(input_blue, kernel_blue)\n",
    "final_output = output_red + output_green + output_blue + bias\n",
    "print(\"Final Output:\")\n",
    "print(final_output)"
   ]
  },
  {
   "cell_type": "code",
   "execution_count": null,
   "id": "dcb3bdaf",
   "metadata": {},
   "outputs": [],
   "source": []
  }
 ],
 "metadata": {
  "kernelspec": {
   "display_name": "Python 3 (ipykernel)",
   "language": "python",
   "name": "python3"
  },
  "language_info": {
   "codemirror_mode": {
    "name": "ipython",
    "version": 3
   },
   "file_extension": ".py",
   "mimetype": "text/x-python",
   "name": "python",
   "nbconvert_exporter": "python",
   "pygments_lexer": "ipython3",
   "version": "3.11.5"
  }
 },
 "nbformat": 4,
 "nbformat_minor": 5
}
