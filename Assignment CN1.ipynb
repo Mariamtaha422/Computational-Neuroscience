{
 "cells": [
  {
   "cell_type": "code",
   "execution_count": 1,
   "id": "70ad1532",
   "metadata": {},
   "outputs": [
    {
     "name": "stdout",
     "output_type": "stream",
     "text": [
      "Output o1: 0.4117, Output o2: 0.4690\n"
     ]
    }
   ],
   "source": [
    "def exp(x, terms=10):\n",
    "    result = 1.0\n",
    "    term = 1.0\n",
    "    for i in range(1, terms):\n",
    "        term *= x / i\n",
    "        result += term\n",
    "    return result\n",
    "\n",
    "def tanh(x):\n",
    "    exp_x = exp(x)\n",
    "    exp_neg_x = exp(-x)\n",
    "    return (exp_x - exp_neg_x) / (exp_x + exp_neg_x)\n",
    "\n",
    "seed = 42\n",
    "def random_uniform(low, high):\n",
    "    global seed\n",
    "    seed = (1664525 * seed + 1013904223) % (2**32)\n",
    "    return low + (seed / (2**32)) * (high - low)\n",
    "\n",
    "def initialize_weights():\n",
    "    return [random_uniform(-0.5, 0.5) for _ in range(8)]\n",
    "\n",
    "def forward_pass(i1, i2, w, b1, b2, b3, b4):\n",
    "    h1_input = i1 * w[0] + i2 * w[1] + b1\n",
    "    h2_input = i1 * w[2] + i2 * w[3] + b2\n",
    "    h1_output = tanh(h1_input)\n",
    "    h2_output = tanh(h2_input)\n",
    "    \n",
    "    o1_input = h1_output * w[4] + h2_output * w[5] + b3\n",
    "    o2_input = h1_output * w[6] + h2_output * w[7] + b4\n",
    "    o1_output = tanh(o1_input)\n",
    "    o2_output = tanh(o2_input)\n",
    "    \n",
    "    return o1_output, o2_output\n",
    "\n",
    "i1, i2 = 0.05, 0.10\n",
    "weights = initialize_weights()\n",
    "b1, b2 = 0.5, 0.5  \n",
    "b3, b4 = 0.7, 0.7  \n",
    "\n",
    "o1, o2 = forward_pass(i1, i2, weights, b1, b2, b3, b4)\n",
    "print(f\"Output o1: {o1:.4f}, Output o2: {o2:.4f}\")\n"
   ]
  },
  {
   "cell_type": "code",
   "execution_count": null,
   "id": "d08cc242",
   "metadata": {},
   "outputs": [],
   "source": []
  }
 ],
 "metadata": {
  "kernelspec": {
   "display_name": "Python 3 (ipykernel)",
   "language": "python",
   "name": "python3"
  },
  "language_info": {
   "codemirror_mode": {
    "name": "ipython",
    "version": 3
   },
   "file_extension": ".py",
   "mimetype": "text/x-python",
   "name": "python",
   "nbconvert_exporter": "python",
   "pygments_lexer": "ipython3",
   "version": "3.11.5"
  }
 },
 "nbformat": 4,
 "nbformat_minor": 5
}
